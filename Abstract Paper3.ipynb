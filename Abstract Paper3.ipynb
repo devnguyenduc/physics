{
 "cells": [
  {
   "cell_type": "markdown",
   "metadata": {},
   "source": [
    "# Full $O(\\alpha)$ electroweak and $O(\\alpha_s)$ corrections $e^+e^- \\rightarrow t \\bar{t} H $"
   ]
  },
  {
   "cell_type": "markdown",
   "metadata": {},
   "source": [
    "### 1. Abstract\n",
    "    \n",
    "  Present the full $O(\\alpha)$ electroweak radiative to associated Higgs top pair, full one-loop QCD corrections with the help of GRACE-loop.\n"
   ]
  },
  {
   "cell_type": "markdown",
   "metadata": {},
   "source": [
    "### 2. Introduction\n",
    "\n",
    "  Measure Higgs decay branching ratios, the Yukawa couplings of the light fermions can be determined at percent leval at a $\\sqrt{s} = 300-500 GeV$ if Higgs boson has a mass below the W pair threshold. This mass range be predicted for lightest Higgs of mininal supersymetric model(MSSM).\n",
    "  In Standard Model, $SM$ light Higgs and COM ranging from $700 GeV$ to $1TeV$.\n",
    "  This Notebook provide the full one-loop electroweak and QCD corrections to $e^+ e^- \\rightarrow t \\bar{t} H$ for a standard model Higgs.\n",
    "  Dawson and Reina investigated the $O(\\alpha_s)$ corrections but only to the dominant photon exchange contribution."
   ]
  },
  {
   "cell_type": "markdown",
   "metadata": {},
   "source": [
    "### 3. GRACE-loop and the calculation of $e^+ e^- \\rightarrow t \\bar{t} H$.\n",
    "\n",
    "  This test applies to the whole set of the virtual one-loop diagrams. In order to conduct this test we regularize any infrared divergence by giving the photon a fictitious mass (we set this at $\\lambda = 10−15 GeV$).\n",
    "  Extract the regulator constant $C_{UV} = 1 / \\epsilon - \\gamma_E + log 4\\pi $, $n = 4 - 2 \\epsilon$.\n",
    "  This parameter could then be set to 0 in further computation.\n",
    "  Checking that there is no dependence on the fictitious photon mass $\\lambda$\n",
    "  It relates to the independence in parameter $k_c$, the photon cut parameter that separates soft photon radiation and hard photon performed by the Monte Carlo integration.\n",
    "  Generalized non-linear gauge fixing condition, chose:\n",
    "\\begin{align}\n",
    "    L_{GF} &= - \\dfrac{1}{\\xi_W} | \\partial_\\mu - i e \\tilde{\\alpha} A_\\mu - i g c_W \\tilde{\\beta} Z_\\mu) W^{\\mu+} \\\\ \n",
    "               &+ \\xi_W \\dfrac{g}{2}(v + \\tilde{\\delta} H + i \\tilde{\\kappa} \\chi_3) \\chi^+|^2 \\\\\n",
    "           &- \\dfrac{1}{2 \\xi_Z} \\left( \\partial . Z + \\xi_Z \\dfrac{g}{2 c_w} ( v + \\tilde{\\varepsilon} H) \\chi_3 \\right)^2\\\\\n",
    "           &- \\dfrac{1}{2 \\xi_A} (\\partial . A)^2.\n",
    "\\end{align}\n",
    "  The $\\chi$ represent the Goldstone.\n",
    "  We take the ’t Hooft–Feynman gauge with $\\xi_w = \\xi_Z = \\xi_A = 1$ so that no “longitudinal” term in the gauge propagators contributes.\n",
    "  \n",
    "   The full set of the Feynman diagrams within the non-linear gauge fixing condition consists of 12 treelevel diagrams and 2327 one-loop diagrams ( with 164 pentagon diagrams ) for the electroweak $O(\\alpha)$ correction to the process $e^+ e^- \\rightarrow t \\bar{t} H$\n",
    "   input parameters for the calculation of $e^+ e^- \\rightarrow t \\bar{t} H$.\n",
    "   \n",
    "   - $\\alpha^{-1} = 137.0359895$, Z mass $M_Z = 91.187 GeV$ , $G_\\mu = 1.16639 x 10^-5 GeV^{-2}$.\n",
    "   - lepton masses $m_e = 0.510999 MeV$, $m_\\mu = 105.658389 MeV$, $m_\\tau = 1.7771 GeV$, top mass $M_t = 174 GeV$, $M_u = M_d = 63 MeV$, $M_s = 92 MeV$, $M_c = 1.5 GeV$ and $M_b = 4.7 GeV$.\n",
    "   - finding : $M_W = 80.3759 GeV$ for $M_H = 120 GeV$ and $M_W = 80.3469$ for $M_H = 180 GeV$.\n",
    "   - QCD coupling, choose $\\alpha_s(M_z) = 0.118$ and evaluate $\\alpha_s(M_t) = 0.10754$."
   ]
  },
  {
   "cell_type": "markdown",
   "metadata": {},
   "source": [
    "### 4. Results\n",
    "\n",
    "#### 4.1 Full $O(\\alpha)$ and $O(\\alpha_s)$ corrections.\n",
    "\n",
    "Show some diagrams is calculated by GRACE LOOP\n",
    "![some-diagrams-calculated-by-GRACE-LOOP](src/ttbarH-diagram.png)\n",
    "\n",
    "- $M_H=120GeV$ maximum occurs around $\\sqrt{s}=700-800GeV$ statistical error 2% percision.\n",
    "\n",
    "- photon exchange diagrams is main of domiant contribution. Z exchange diagrams with Higgs radiation off the Z or the top is much smaller. $M_H = 120GeV$ and $\\sqrt{s}=500GeV$, the photon excahnge diagram alone contributes $90%$ of total cross section whereas Higgs radiation off the Z is less than $0.2%$.\n",
    "\n",
    "- The relative corrections defined as\n",
    "$$ \\delta_{O(\\alpha,\\alpha_s)} = \\dfrac{\\sigma_{O(\\alpha, \\alpha_s)}}{\\sigma_{tree}} - 1 $$\n",
    "\n",
    "QCD correction\n",
    "\n",
    "$ \\delta_{O(\\alpha_s)} = C_F \\alpha_s(\\mu) \\Delta_S$, $C_F = 4/3$\n",
    "\n",
    "Some information with change value of CoM energy ...\n",
    "\n",
    "have the table description QCD corrections using Monte Carlo integrations errors.\n",
    "![QCD-corrections](src/QCD-corrections.png)\n",
    "\n",
    "The dominant initial state QED virtual and soft bremsstrahlung corrections\n",
    "\n",
    "$$\\delta^{QED}_{V+S,in} = \\dfrac{2\\alpha}{\\pi} \\left( (L_e - 1) ln \\dfrac{k_c}{E_b} + \\dfrac{3}{4}L_e + \\dfrac{\\pi^2}{6} - 1 \\right). $$\n",
    "$$ L_e = ln \\left( \\dfrac{s}{m_e^2} \\right) $$\n",
    "and QED corrections table\n",
    "![QED-corrections](src/QED-corrections.png)\n"
   ]
  },
  {
   "cell_type": "markdown",
   "metadata": {},
   "source": [
    "## 5. Conclusions."
   ]
  },
  {
   "cell_type": "code",
   "execution_count": 1,
   "metadata": {},
   "outputs": [
    {
     "name": "stdout",
     "output_type": "stream",
     "text": [
      "On branch thesis\n",
      "Your branch is up to date with 'origin/thesis'.\n",
      "\n",
      "Changes not staged for commit:\n",
      "  (use \"git add <file>...\" to update what will be committed)\n",
      "  (use \"git checkout -- <file>...\" to discard changes in working directory)\n",
      "\n",
      "\tmodified:   .ipynb_checkpoints/Abstract Paper3-checkpoint.ipynb\n",
      "\tmodified:   Abstract Paper3.ipynb\n",
      "\n",
      "Untracked files:\n",
      "  (use \"git add <file>...\" to include in what will be committed)\n",
      "\n",
      "\tsrc/\n",
      "\n",
      "no changes added to commit (use \"git add\" and/or \"git commit -a\")\n"
     ]
    }
   ],
   "source": [
    "!git cadd"
   ]
  },
  {
   "cell_type": "code",
   "execution_count": null,
   "metadata": {},
   "outputs": [],
   "source": []
  }
 ],
 "metadata": {
  "kernelspec": {
   "display_name": "Python 3",
   "language": "python",
   "name": "python3"
  },
  "language_info": {
   "codemirror_mode": {
    "name": "ipython",
    "version": 3
   },
   "file_extension": ".py",
   "mimetype": "text/x-python",
   "name": "python",
   "nbconvert_exporter": "python",
   "pygments_lexer": "ipython3",
   "version": "3.6.8"
  }
 },
 "nbformat": 4,
 "nbformat_minor": 4
}
