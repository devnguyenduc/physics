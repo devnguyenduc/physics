{
 "cells": [
  {
   "cell_type": "markdown",
   "metadata": {},
   "source": [
    "# Full $O(\\alpha)$ electroweak and $O(\\alpha_s)$ corrections $e^+e^- \\rightarrow t \\bar{t} H $"
   ]
  },
  {
   "cell_type": "markdown",
   "metadata": {},
   "source": [
    "### 1. Abstract\n",
    "    \n",
    "  Present the full $O(\\alpha)$ electroweak radiative to associated Higgs top pair, full one-loop QCD corrections with the help of GRACE-loop.\n"
   ]
  },
  {
   "cell_type": "markdown",
   "metadata": {},
   "source": [
    "### 2. Introduction\n",
    "\n",
    "  Measure Higgs decay branching ratios, the Yukawa couplings of the light fermions can be determined at percent leval at a $\\sqrt{s} = 300-500 GeV$ if Higgs boson has a mass below the W pair threshold. This mass range be predicted for lightest Higgs of mininal supersymetric model(MSSM).\n",
    "  In Standard Model, $SM$ light Higgs and COM ranging from $700 GeV$ to $1TeV$.\n",
    "  This Notebook provide the full one-loop electroweak and QCD corrections to $e^+ e^- \\rightarrow t \\bar{t} H$ for a standard model Higgs.\n",
    "  Dawson and Reina investigated the $O(\\alpha_s)$ corrections but only to the dominant photon exchange contribution."
   ]
  },
  {
   "cell_type": "markdown",
   "metadata": {},
   "source": [
    "### 3. GRACE-loop and the calculation of $e^+ e^- \\rightarrow t \\bar{t} H$.\n",
    "\n",
    "  This test applies to the whole set of the virtual one-loop diagrams. In order to conduct this test we regularize any infrared divergence by giving the photon a fictitious mass (we set this at $\\lambda = 10−15 GeV$).\n",
    "  Extract the regulator constant $C_{UV} = 1 / \\epsilon - \\gamma_E + log 4\\pi $, $n = 4 - 2 \\epsilon$.\n",
    "  This parameter could then be set to 0 in further computation.\n",
    "  Checking that there is no dependence on the fictitious photon mass $\\lambda$\n",
    "  It relates to the independence in parameter $k_c$, the photon cut parameter that separates soft photon radiation and hard photon performed by the Monte Carlo integration.\n",
    "  Generalized non-linear gauge fixing condition, chose:\n",
    "\\begin{align}\n",
    "    L_{GF} &= - \\dfrac{1}{\\xi_W} | \\partial_\\mu - i e \\tilde{\\alpha} A_\\mu - i g c_W \\tilde{\\beta} Z_\\mu) W^{\\mu+} \\\\ \n",
    "               &+ \\xi_W \\dfrac{g}{2}(v + \\tilde{\\delta} H + i \\tilde{\\kappa} \\chi_3) \\chi^+|^2 \\\\\n",
    "           &- \\dfrac{1}{2 \\xi_Z} \\left( \\partial . Z + \\xi_Z \\dfrac{g}{2 c_w} ( v + \\tilde{\\varepsilon} H) \\chi_3 \\right)^2\\\\\n",
    "           &- \\dfrac{1}{2 \\xi_A} (\\partial . A)^2.\n",
    "\\end{align}\n",
    "  The $\\chi$ represent the Goldstone.\n",
    "  We take the ’t Hooft–Feynman gauge with $\\xi_w = \\xi_Z = \\xi_A = 1$ so that no “longitudinal” term in the gauge propagators contributes.\n",
    "  \n",
    "   The full set of the Feynman diagrams within the non-linear gauge fixing condition consists of 12 treelevel diagrams and 2327 one-loop diagrams ( with 164 pentagon diagrams ) for the electroweak $O(\\alpha)$ correction to the process $e^+ e^- \\rightarrow t \\bar{t} H$\n",
    "   input parameters for the calculation of $e^+ e^- \\rightarrow t \\bar{t} H$.\n",
    "   \n",
    "   - $\\alpha^{-1} = 137.0359895$, Z mass $M_Z = 91.187 GeV$ , $G_\\mu = 1.16639 x 10^-5 GeV^{-2}$.\n",
    "   - lepton masses $m_e = 0.510999 MeV$, $m_\\mu = 105.658389 MeV$, $m_\\tau = 1.7771 GeV$, top mass $M_t = 174 GeV$, $M_u = M_d = 63 MeV$, $M_s = 92 MeV$, $M_c = 1.5 GeV$ and $M_b = 4.7 GeV$.\n",
    "   - finding : $M_W = 80.3759 GeV$ for $M_H = 120 GeV$ and $M_W = 80.3469$ for $M_H = 180 GeV$.\n",
    "   - QCD coupling, choose $\\alpha_s(M_z) = 0.118$ and evaluate $\\alpha_s(M_t) = 0.10754$."
   ]
  },
  {
   "cell_type": "markdown",
   "metadata": {},
   "source": [
    "### 4. Results\n",
    "\n",
    "#### 4.1 Full $O(\\alpha)$ and $O(\\alpha_s)$ corrections.\n",
    "\n",
    "Show some diagram is calculated by GRACE LOOP\n",
    "![hello]{src/ttbarH-diagram.png}"
   ]
  },
  {
   "cell_type": "markdown",
   "metadata": {},
   "source": []
  }
 ],
 "metadata": {
  "kernelspec": {
   "display_name": "Python 3",
   "language": "python",
   "name": "python3"
  },
  "language_info": {
   "codemirror_mode": {
    "name": "ipython",
    "version": 3
   },
   "file_extension": ".py",
   "mimetype": "text/x-python",
   "name": "python",
   "nbconvert_exporter": "python",
   "pygments_lexer": "ipython3",
   "version": "3.6.8"
  }
 },
 "nbformat": 4,
 "nbformat_minor": 4
}
